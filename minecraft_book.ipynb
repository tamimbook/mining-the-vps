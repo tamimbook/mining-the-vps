{
  "cell_type": "code",
  "metadata": {},
  "execution_count": null,
  "outputs": [],
  "source": [
    "# Hello, World! sample\n",
    "print(\"Hello, World!\")\n",
    "\n",
    "# Number counting loop from 1 to 10\n",
    "for i in range(1, 11):\n",
    "    print(i)"
  ]
}
